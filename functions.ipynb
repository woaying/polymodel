{
 "cells": [
  {
   "cell_type": "code",
   "execution_count": null,
   "id": "b03f1613",
   "metadata": {},
   "outputs": [],
   "source": []
  },
  {
   "cell_type": "code",
   "execution_count": null,
   "id": "91c9ee01",
   "metadata": {},
   "outputs": [],
   "source": [
    "import numpy as np\n",
    "import pandas as pd\n",
    "import datetime\n",
    "from dateutil.relativedelta import relativedelta\n"
   ]
  },
  {
   "cell_type": "code",
   "execution_count": null,
   "id": "68104c76",
   "metadata": {},
   "outputs": [],
   "source": [
    "def addmonth(start_date, n_of_month, dateformat):\n",
    "    start=datetime.datetime.strptime(start_date,dateformat)\n",
    "    return (start+relativedelta(months=n_of_month)).strftime(dateformat)"
   ]
  },
  {
   "cell_type": "code",
   "execution_count": null,
   "id": "02f3a91c",
   "metadata": {},
   "outputs": [],
   "source": [
    "def selectMonth(start_date, n_of_month, dataframe):\n",
    "    # dataframe should have index as \"2021-01-01\"\n",
    "    dateformat='%Y-%m-%d'\n",
    "    start=start_date\n",
    "    temp1=addmonth(start_date, n_of_month, dateformat)\n",
    "    temp2=datetime.datetime.strptime(temp1,dateformat)\n",
    "    end=datetime.date(temp2.year,temp2.month,1).strftime(dateformat)\n",
    "    return dataframe.loc[(dataframe.index>=start) & (dataframe.index<end)]"
   ]
  },
  {
   "cell_type": "code",
   "execution_count": null,
   "id": "905d13d2",
   "metadata": {},
   "outputs": [],
   "source": [
    "def returnList(start_date,n_of_month,list_of_dateframe):\n",
    "    '''\n",
    "    getting the required month from a list of dateframe and concatenate them in one dataFrame\n",
    "    Eg: put together all selected months data of daily, weekly, biweekly, monthly return\n",
    "    \n",
    "    '''\n",
    "    alist=[]\n",
    "    for i in list_of_dateframe:\n",
    "        alist.append(selectMonth(start_date, n_of_month, i))\n",
    "    return pd.concat(alist)"
   ]
  },
  {
   "cell_type": "code",
   "execution_count": null,
   "id": "140457c7",
   "metadata": {},
   "outputs": [],
   "source": [
    "def pctlList(dataframe):\n",
    "    '''gives the 50, 25, 75 percentile of the dateframe'''\n",
    "    df=pd.DataFrame(columns=dataframe.columns)\n",
    "    pctl=['50','25','75']\n",
    "    for k in pctl:\n",
    "        df.loc[k+'_percentile']=[np.percentile(dataframe[i],int(k)) for i in dataframe.columns]\n",
    "    return df"
   ]
  },
  {
   "cell_type": "code",
   "execution_count": null,
   "id": "1b6c9121",
   "metadata": {},
   "outputs": [],
   "source": [
    "def basefunc(dataframe):\n",
    "    '''getting the basefunc function\n",
    "       pctlList required!\n",
    "       drop columns with null value\n",
    "       output of this function is a dataframe with each col containing tuple (1, phi1, phi2, phi3, phi4)\n",
    "    '''\n",
    "    null_cols=dataframe.columns[dataframe.isnull().any()]\n",
    "    dataframe=dataframe.drop(null_cols,axis=1) # get rid of columns contains null\n",
    "    df_pctl=pctlList(dataframe) # calculate percentiles\n",
    "    \n",
    "    # calculate base functions\n",
    "    phi1=dataframe\n",
    "    phi2=abs(dataframe-df_pctl.loc['50_percentile'])\n",
    "    phi3=1/2*(abs(dataframe-df_pctl.loc['75_percentile'])\n",
    "         -abs(dataframe-df_pctl.loc['25_percentile'])\n",
    "         -df_pctl.loc['75_percentile']-df_pctl.loc['25_percentile'])+dataframe\n",
    "    phi4=1/2*(abs(dataframe-df_pctl.loc['75_percentile'])\n",
    "         +abs(dataframe-df_pctl.loc['25_percentile'])\n",
    "         -df_pctl.loc['75_percentile']+df_pctl.loc['25_percentile'])\n",
    "    const_col=[1 for i in range(len(dataframe))]\n",
    "    \n",
    "    # put base funcs in list and form a new df\n",
    "    base_df=pd.DataFrame(columns=dataframe.columns,index=dataframe.index)\n",
    "    for col in dataframe.columns:\n",
    "        base_df[col]=list(zip(const_col,list(phi1[col]),list(phi2[col]),list(phi3[col]),list(phi4[col])))\n",
    "    \n",
    "    return base_df"
   ]
  },
  {
   "cell_type": "code",
   "execution_count": null,
   "id": "23916ef2",
   "metadata": {},
   "outputs": [],
   "source": [
    "def basefunc_long_term_pctl(dataframe,ETF_dataframe):\n",
    "    '''\n",
    "    calculate (phi0,phi1(pctl),phi2(pctl),phi3(pctl),phi4(pctl))\n",
    "    with pctl as the long_term_pctl and phis' take the parameter from ETF factor (here is SPY)\n",
    "    '''\n",
    "    null_cols=dataframe.columns[dataframe.isnull().any()]\n",
    "    dataframe=dataframe.drop(null_cols,axis=1) # get rid of columns contains null\n",
    "    \n",
    "    null_cols=ETF_dataframe.columns[ETF_dataframe.isnull().any()]\n",
    "    ETF_dataframe=ETF_dataframe.drop(null_cols,axis=1)\n",
    "    df_pctl=pctlList(ETF_dataframe) # calculate percentiles\n",
    "    \n",
    "    # calculate base functions\n",
    "    phi1=dataframe\n",
    "    phi2=abs(dataframe-df_pctl.loc['50_percentile'])\n",
    "    phi3=1/2*(abs(dataframe-df_pctl.loc['75_percentile'])\n",
    "         -abs(dataframe-df_pctl.loc['25_percentile'])\n",
    "         -df_pctl.loc['75_percentile']-df_pctl.loc['25_percentile'])+dataframe\n",
    "    phi4=1/2*(abs(dataframe-df_pctl.loc['75_percentile'])\n",
    "         +abs(dataframe-df_pctl.loc['25_percentile'])\n",
    "         -df_pctl.loc['75_percentile']+df_pctl.loc['25_percentile'])\n",
    "    const_col=[1 for i in range(len(dataframe))]\n",
    "    \n",
    "    # put base funcs in list and form a new df\n",
    "    base_df=pd.DataFrame(columns=dataframe.columns,index=dataframe.index)\n",
    "    for col in dataframe.columns:\n",
    "        base_df[col]=list(zip(const_col,list(phi1[col]),list(phi2[col]),list(phi3[col]),list(phi4[col])))\n",
    "    \n",
    "    return base_df"
   ]
  },
  {
   "cell_type": "code",
   "execution_count": null,
   "id": "d3fde73f",
   "metadata": {},
   "outputs": [],
   "source": [
    "def dltMonthSplit(n, dataframe):\n",
    "    '''\n",
    "    remove rows of the nth month in the dataframe\n",
    "    n should be within the range of n_of_month as in func selectMonth\n",
    "    Output should be two dataframes:\n",
    "    1. removed month sub_df and 2. leftover_df\n",
    "    '''\n",
    "    dateformat='%Y-%m-%d'\n",
    "    first_index=dataframe.index[0] # '2011-02-01'\n",
    "    last_index=dataframe.index[-1] # '2012-01-31'\n",
    "    first_date=datetime.datetime.strptime(first_index,dateformat) # datetime.datetime(2011, 2, 1, 0, 0)\n",
    "    last_date=datetime.datetime.strptime(last_index,dateformat)+datetime.timedelta(days=1) \n",
    "    # datetime.datetime(2012, 2, 1, 0, 0)\n",
    "    \n",
    "    # here n_of_month is 12 between ('2011-02-01', '2012-01-31')\n",
    "    n_of_month=(last_date.year-first_date.year)*12+(last_date.month-first_date.month)\n",
    "    first=datetime.date(first_date.year,first_date.month,1).strftime(dateformat)\n",
    "    month_list=[addmonth(first,i,dateformat) for i in range(n_of_month)]\n",
    "    \n",
    "    if n>(n_of_month) or n<1:\n",
    "        return 'nth month selected is out of range of the total number of months in dataframe'\n",
    "    elif isinstance(n,(float,str,bool)):\n",
    "        return 'data type wrong for n'\n",
    "    else:\n",
    "        start=month_list[n-1]\n",
    "        end=addmonth(start,1,dateformat)\n",
    "        dltMonth_df=dataframe.iloc[(dataframe.index>=start) & (dataframe.index<end)]\n",
    "        lftMonth_df=dataframe.iloc[(dataframe.index<start) | (dataframe.index>=end)]\n",
    "    return [dltMonth_df,lftMonth_df]"
   ]
  },
  {
   "cell_type": "code",
   "execution_count": null,
   "id": "1b664048",
   "metadata": {},
   "outputs": [],
   "source": [
    "def CrossValidation(number_of_month): # need to have stock and ETF as the variable! Number_of_month has to be 12 now!\n",
    "    '''\n",
    "    have to have linear regressor defined before\n",
    "    \n",
    "    follow the way to calculate SCORE underneath. should return SCORE\n",
    "    '''\n",
    "    lr=LinearRegression()\n",
    "    estimators={}\n",
    "    residuals={}\n",
    "    for i in range(1,number_of_month+1): # no need to start from 1, return list doesn't have res[0] anymore.change it!\n",
    "        [X_dlt_data,X_lft_data]=dltMonthSplit(i,ETF_basefunc['SPY'])\n",
    "        [y_dlt_data,y_lft_data]=dltMonthSplit(i,stock_data['AAPL'])\n",
    "        estimators[i]=lr.fit(list(X_lft_data),y_lft_data)\n",
    "        residuals[i]=lr.predict(list(X_dlt_data))-y_dlt_data\n",
    "    return residuals"
   ]
  },
  {
   "cell_type": "code",
   "execution_count": null,
   "id": "5fe0f6f2",
   "metadata": {},
   "outputs": [],
   "source": [
    "def score(factor='SPY',stock='AAPL'): # need to change later\n",
    "    '''\n",
    "    calculate the score of a ETF_factor toward a stock\n",
    "    '''\n",
    "    residuals=CrossValidation(12)# number_of_month has to be 12 now. factor should go into CrossValidation.\n",
    "    sumlen_res=0\n",
    "    sumsquare_res=0\n",
    "    for i in range(1,len(residuals)+1):\n",
    "        sumlen_res+=len(residuals[i])\n",
    "        sumsquare_res+=sum(residuals[i]**2)\n",
    "    \n",
    "    sumsquare_stock=sum(stock_data[stock]**2)\n",
    "    score=np.sqrt(np.max(sumsquare_stock/sumsquare_res-1,0))\n",
    "    return score"
   ]
  },
  {
   "cell_type": "code",
   "execution_count": null,
   "id": "12846e49",
   "metadata": {},
   "outputs": [],
   "source": [
    "def pctlListNew(dataframe,pctl): # ask for the percentil of 1% and 99%!!!!!\n",
    "    '''gives the pctl list of percentile of the dateframe'''\n",
    "    df=pd.DataFrame(columns=dataframe.columns)\n",
    "    for k in pctl:\n",
    "        df.loc[str(k)+'_percentile']=[np.percentile(dataframe[i],k) for i in dataframe.columns]\n",
    "    return df"
   ]
  },
  {
   "cell_type": "code",
   "execution_count": null,
   "id": "f95c1120",
   "metadata": {},
   "outputs": [],
   "source": []
  },
  {
   "cell_type": "code",
   "execution_count": null,
   "id": "ffe8ac5f",
   "metadata": {},
   "outputs": [],
   "source": []
  },
  {
   "cell_type": "code",
   "execution_count": null,
   "id": "80791e99",
   "metadata": {},
   "outputs": [],
   "source": []
  },
  {
   "cell_type": "code",
   "execution_count": null,
   "id": "5f8db390",
   "metadata": {},
   "outputs": [],
   "source": []
  },
  {
   "cell_type": "code",
   "execution_count": null,
   "id": "71193b79",
   "metadata": {},
   "outputs": [],
   "source": []
  },
  {
   "cell_type": "code",
   "execution_count": null,
   "id": "b6d1916c",
   "metadata": {},
   "outputs": [],
   "source": []
  }
 ],
 "metadata": {
  "kernelspec": {
   "display_name": "Python 3",
   "language": "python",
   "name": "python3"
  },
  "language_info": {
   "codemirror_mode": {
    "name": "ipython",
    "version": 3
   },
   "file_extension": ".py",
   "mimetype": "text/x-python",
   "name": "python",
   "nbconvert_exporter": "python",
   "pygments_lexer": "ipython3",
   "version": "3.6.13"
  }
 },
 "nbformat": 4,
 "nbformat_minor": 5
}
